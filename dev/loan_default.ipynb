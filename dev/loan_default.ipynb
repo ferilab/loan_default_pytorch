{
 "cells": [
  {
   "cell_type": "code",
   "execution_count": 155,
   "id": "bc144fa3-cdb5-4962-ba21-ca20f427163a",
   "metadata": {},
   "outputs": [],
   "source": []
  },
  {
   "cell_type": "markdown",
   "id": "b1d70538-0385-48ea-b3eb-514844300d23",
   "metadata": {},
   "source": [
    "### Model story\n",
    "\n",
    "See the readme.md please"
   ]
  },
  {
   "cell_type": "code",
   "execution_count": 10,
   "id": "81a84fed-f58e-4237-a6b7-273922a70fec",
   "metadata": {},
   "outputs": [],
   "source": [
    "    # General and ML libraries\n",
    "import pandas as pd\n",
    "from sklearn.model_selection import train_test_split\n",
    "from sklearn.preprocessing import StandardScaler, LabelEncoder\n",
    "from sklearn.metrics import classification_report\n",
    "import os\n",
    "import sys\n",
    "import warnings \n",
    "\n",
    "    # Libraries required to make the deep learing model using PyTorch\n",
    "import torch\n",
    "import torch.nn as nn\n",
    "import torch.optim as optim\n",
    "from torch.utils.data import TensorDataset, DataLoader\n",
    "\n",
    "    # Add the absolute pass of the package to the system path\n",
    "sys.path.append(os.path.abspath(\"..\"))\n",
    "project_root = os.path.abspath(\"..\")\n",
    "\n",
    "pd.set_option('display.max_columns', None)\n",
    "warnings.filter_warnings('ignore')\n"
   ]
  },
  {
   "cell_type": "code",
   "execution_count": 156,
   "id": "a2bdc221-b288-4ac7-867c-b2dbe2564d2a",
   "metadata": {},
   "outputs": [
    {
     "data": {
      "text/html": [
       "<div>\n",
       "<style scoped>\n",
       "    .dataframe tbody tr th:only-of-type {\n",
       "        vertical-align: middle;\n",
       "    }\n",
       "\n",
       "    .dataframe tbody tr th {\n",
       "        vertical-align: top;\n",
       "    }\n",
       "\n",
       "    .dataframe thead th {\n",
       "        text-align: right;\n",
       "    }\n",
       "</style>\n",
       "<table border=\"1\" class=\"dataframe\">\n",
       "  <thead>\n",
       "    <tr style=\"text-align: right;\">\n",
       "      <th></th>\n",
       "      <th>Selected</th>\n",
       "      <th>LoanNr_ChkDgt</th>\n",
       "      <th>Name</th>\n",
       "      <th>City</th>\n",
       "      <th>State</th>\n",
       "      <th>Zip</th>\n",
       "      <th>Bank</th>\n",
       "      <th>BankState</th>\n",
       "      <th>NAICS</th>\n",
       "      <th>ApprovalDate</th>\n",
       "      <th>ApprovalFY</th>\n",
       "      <th>Term</th>\n",
       "      <th>NoEmp</th>\n",
       "      <th>NewExist</th>\n",
       "      <th>CreateJob</th>\n",
       "      <th>RetainedJob</th>\n",
       "      <th>FranchiseCode</th>\n",
       "      <th>UrbanRural</th>\n",
       "      <th>RevLineCr</th>\n",
       "      <th>LowDoc</th>\n",
       "      <th>ChgOffDate</th>\n",
       "      <th>DisbursementDate</th>\n",
       "      <th>DisbursementGross</th>\n",
       "      <th>BalanceGross</th>\n",
       "      <th>MIS_Status</th>\n",
       "      <th>ChgOffPrinGr</th>\n",
       "      <th>GrAppv</th>\n",
       "      <th>SBA_Appv</th>\n",
       "      <th>New</th>\n",
       "      <th>RealEstate</th>\n",
       "      <th>Portion</th>\n",
       "      <th>Recession</th>\n",
       "      <th>daysterm</th>\n",
       "      <th>xx</th>\n",
       "      <th>Default</th>\n",
       "    </tr>\n",
       "  </thead>\n",
       "  <tbody>\n",
       "    <tr>\n",
       "      <th>0</th>\n",
       "      <td>0</td>\n",
       "      <td>1004285007</td>\n",
       "      <td>SIMPLEX OFFICE SOLUTIONS</td>\n",
       "      <td>ANAHEIM</td>\n",
       "      <td>CA</td>\n",
       "      <td>92801</td>\n",
       "      <td>CALIFORNIA BANK &amp; TRUST</td>\n",
       "      <td>CA</td>\n",
       "      <td>532420</td>\n",
       "      <td>15074</td>\n",
       "      <td>2001</td>\n",
       "      <td>36</td>\n",
       "      <td>1</td>\n",
       "      <td>1.0</td>\n",
       "      <td>0</td>\n",
       "      <td>0</td>\n",
       "      <td>1</td>\n",
       "      <td>0</td>\n",
       "      <td>Y</td>\n",
       "      <td>N</td>\n",
       "      <td>NaN</td>\n",
       "      <td>15095.0</td>\n",
       "      <td>32812</td>\n",
       "      <td>0</td>\n",
       "      <td>P I F</td>\n",
       "      <td>0</td>\n",
       "      <td>30000</td>\n",
       "      <td>15000</td>\n",
       "      <td>0</td>\n",
       "      <td>0</td>\n",
       "      <td>0.5</td>\n",
       "      <td>0</td>\n",
       "      <td>1080</td>\n",
       "      <td>16175.0</td>\n",
       "      <td>0</td>\n",
       "    </tr>\n",
       "    <tr>\n",
       "      <th>1</th>\n",
       "      <td>1</td>\n",
       "      <td>1004535010</td>\n",
       "      <td>DREAM HOME REALTY</td>\n",
       "      <td>TORRANCE</td>\n",
       "      <td>CA</td>\n",
       "      <td>90505</td>\n",
       "      <td>CALIFORNIA BANK &amp; TRUST</td>\n",
       "      <td>CA</td>\n",
       "      <td>531210</td>\n",
       "      <td>15130</td>\n",
       "      <td>2001</td>\n",
       "      <td>56</td>\n",
       "      <td>1</td>\n",
       "      <td>1.0</td>\n",
       "      <td>0</td>\n",
       "      <td>0</td>\n",
       "      <td>1</td>\n",
       "      <td>0</td>\n",
       "      <td>Y</td>\n",
       "      <td>N</td>\n",
       "      <td>NaN</td>\n",
       "      <td>15978.0</td>\n",
       "      <td>30000</td>\n",
       "      <td>0</td>\n",
       "      <td>P I F</td>\n",
       "      <td>0</td>\n",
       "      <td>30000</td>\n",
       "      <td>15000</td>\n",
       "      <td>0</td>\n",
       "      <td>0</td>\n",
       "      <td>0.5</td>\n",
       "      <td>1</td>\n",
       "      <td>1680</td>\n",
       "      <td>17658.0</td>\n",
       "      <td>0</td>\n",
       "    </tr>\n",
       "    <tr>\n",
       "      <th>2</th>\n",
       "      <td>0</td>\n",
       "      <td>1005005006</td>\n",
       "      <td>Winset, Inc. dba Bankers Hill</td>\n",
       "      <td>SAN DIEGO</td>\n",
       "      <td>CA</td>\n",
       "      <td>92103</td>\n",
       "      <td>CALIFORNIA BANK &amp; TRUST</td>\n",
       "      <td>CA</td>\n",
       "      <td>531210</td>\n",
       "      <td>15188</td>\n",
       "      <td>2001</td>\n",
       "      <td>36</td>\n",
       "      <td>10</td>\n",
       "      <td>1.0</td>\n",
       "      <td>0</td>\n",
       "      <td>0</td>\n",
       "      <td>1</td>\n",
       "      <td>0</td>\n",
       "      <td>Y</td>\n",
       "      <td>N</td>\n",
       "      <td>NaN</td>\n",
       "      <td>15218.0</td>\n",
       "      <td>30000</td>\n",
       "      <td>0</td>\n",
       "      <td>P I F</td>\n",
       "      <td>0</td>\n",
       "      <td>30000</td>\n",
       "      <td>15000</td>\n",
       "      <td>0</td>\n",
       "      <td>0</td>\n",
       "      <td>0.5</td>\n",
       "      <td>0</td>\n",
       "      <td>1080</td>\n",
       "      <td>16298.0</td>\n",
       "      <td>0</td>\n",
       "    </tr>\n",
       "    <tr>\n",
       "      <th>3</th>\n",
       "      <td>1</td>\n",
       "      <td>1005535001</td>\n",
       "      <td>Shiva Management</td>\n",
       "      <td>SAN DIEGO</td>\n",
       "      <td>CA</td>\n",
       "      <td>92108</td>\n",
       "      <td>CALIFORNIA BANK &amp; TRUST</td>\n",
       "      <td>CA</td>\n",
       "      <td>531312</td>\n",
       "      <td>15719</td>\n",
       "      <td>2003</td>\n",
       "      <td>36</td>\n",
       "      <td>6</td>\n",
       "      <td>1.0</td>\n",
       "      <td>0</td>\n",
       "      <td>0</td>\n",
       "      <td>1</td>\n",
       "      <td>0</td>\n",
       "      <td>Y</td>\n",
       "      <td>N</td>\n",
       "      <td>NaN</td>\n",
       "      <td>15736.0</td>\n",
       "      <td>50000</td>\n",
       "      <td>0</td>\n",
       "      <td>P I F</td>\n",
       "      <td>0</td>\n",
       "      <td>50000</td>\n",
       "      <td>25000</td>\n",
       "      <td>0</td>\n",
       "      <td>0</td>\n",
       "      <td>0.5</td>\n",
       "      <td>0</td>\n",
       "      <td>1080</td>\n",
       "      <td>16816.0</td>\n",
       "      <td>0</td>\n",
       "    </tr>\n",
       "    <tr>\n",
       "      <th>4</th>\n",
       "      <td>1</td>\n",
       "      <td>1005996006</td>\n",
       "      <td>GOLD CROWN HOME LOANS, INC</td>\n",
       "      <td>LOS ANGELES</td>\n",
       "      <td>CA</td>\n",
       "      <td>91345</td>\n",
       "      <td>SBA - EDF ENFORCEMENT ACTION</td>\n",
       "      <td>CO</td>\n",
       "      <td>531390</td>\n",
       "      <td>16840</td>\n",
       "      <td>2006</td>\n",
       "      <td>240</td>\n",
       "      <td>65</td>\n",
       "      <td>1.0</td>\n",
       "      <td>3</td>\n",
       "      <td>65</td>\n",
       "      <td>1</td>\n",
       "      <td>1</td>\n",
       "      <td>0</td>\n",
       "      <td>N</td>\n",
       "      <td>NaN</td>\n",
       "      <td>16903.0</td>\n",
       "      <td>343000</td>\n",
       "      <td>0</td>\n",
       "      <td>P I F</td>\n",
       "      <td>0</td>\n",
       "      <td>343000</td>\n",
       "      <td>343000</td>\n",
       "      <td>0</td>\n",
       "      <td>1</td>\n",
       "      <td>1.0</td>\n",
       "      <td>0</td>\n",
       "      <td>7200</td>\n",
       "      <td>24103.0</td>\n",
       "      <td>0</td>\n",
       "    </tr>\n",
       "  </tbody>\n",
       "</table>\n",
       "</div>"
      ],
      "text/plain": [
       "   Selected  LoanNr_ChkDgt                           Name         City State  \\\n",
       "0         0     1004285007       SIMPLEX OFFICE SOLUTIONS      ANAHEIM    CA   \n",
       "1         1     1004535010              DREAM HOME REALTY     TORRANCE    CA   \n",
       "2         0     1005005006  Winset, Inc. dba Bankers Hill    SAN DIEGO    CA   \n",
       "3         1     1005535001               Shiva Management    SAN DIEGO    CA   \n",
       "4         1     1005996006     GOLD CROWN HOME LOANS, INC  LOS ANGELES    CA   \n",
       "\n",
       "     Zip                          Bank BankState   NAICS  ApprovalDate  \\\n",
       "0  92801       CALIFORNIA BANK & TRUST        CA  532420         15074   \n",
       "1  90505       CALIFORNIA BANK & TRUST        CA  531210         15130   \n",
       "2  92103       CALIFORNIA BANK & TRUST        CA  531210         15188   \n",
       "3  92108       CALIFORNIA BANK & TRUST        CA  531312         15719   \n",
       "4  91345  SBA - EDF ENFORCEMENT ACTION        CO  531390         16840   \n",
       "\n",
       "   ApprovalFY  Term  NoEmp  NewExist  CreateJob  RetainedJob  FranchiseCode  \\\n",
       "0        2001    36      1       1.0          0            0              1   \n",
       "1        2001    56      1       1.0          0            0              1   \n",
       "2        2001    36     10       1.0          0            0              1   \n",
       "3        2003    36      6       1.0          0            0              1   \n",
       "4        2006   240     65       1.0          3           65              1   \n",
       "\n",
       "   UrbanRural RevLineCr LowDoc  ChgOffDate  DisbursementDate  \\\n",
       "0           0         Y      N         NaN           15095.0   \n",
       "1           0         Y      N         NaN           15978.0   \n",
       "2           0         Y      N         NaN           15218.0   \n",
       "3           0         Y      N         NaN           15736.0   \n",
       "4           1         0      N         NaN           16903.0   \n",
       "\n",
       "   DisbursementGross  BalanceGross MIS_Status  ChgOffPrinGr  GrAppv  SBA_Appv  \\\n",
       "0              32812             0      P I F             0   30000     15000   \n",
       "1              30000             0      P I F             0   30000     15000   \n",
       "2              30000             0      P I F             0   30000     15000   \n",
       "3              50000             0      P I F             0   50000     25000   \n",
       "4             343000             0      P I F             0  343000    343000   \n",
       "\n",
       "   New  RealEstate  Portion  Recession  daysterm       xx  Default  \n",
       "0    0           0      0.5          0      1080  16175.0        0  \n",
       "1    0           0      0.5          1      1680  17658.0        0  \n",
       "2    0           0      0.5          0      1080  16298.0        0  \n",
       "3    0           0      0.5          0      1080  16816.0        0  \n",
       "4    0           1      1.0          0      7200  24103.0        0  "
      ]
     },
     "execution_count": 156,
     "metadata": {},
     "output_type": "execute_result"
    }
   ],
   "source": [
    "### 1. Preliminary analysis: Load the data and investigate it to find irrelevant variables, missing data, ...\n",
    "# Note: we changed the original data file name from SBAcase.11.13.17.csv to SBAcase_data.csv\n",
    "file_path = os.path.join(project_root, \"data/\")\n",
    "df = pd.read_csv(file_path + \"SBAcase.11.13.17.csv\")\n",
    "df.head()"
   ]
  },
  {
   "cell_type": "code",
   "execution_count": 139,
   "id": "415d868b-d661-4fe5-a874-ea59421016ca",
   "metadata": {},
   "outputs": [
    {
     "name": "stdout",
     "output_type": "stream",
     "text": [
      "<class 'pandas.core.frame.DataFrame'>\n",
      "RangeIndex: 2102 entries, 0 to 2101\n",
      "Data columns (total 35 columns):\n",
      " #   Column             Non-Null Count  Dtype  \n",
      "---  ------             --------------  -----  \n",
      " 0   Selected           2102 non-null   int64  \n",
      " 1   LoanNr_ChkDgt      2102 non-null   int64  \n",
      " 2   Name               2102 non-null   object \n",
      " 3   City               2102 non-null   object \n",
      " 4   State              2102 non-null   object \n",
      " 5   Zip                2102 non-null   int64  \n",
      " 6   Bank               2099 non-null   object \n",
      " 7   BankState          2099 non-null   object \n",
      " 8   NAICS              2102 non-null   int64  \n",
      " 9   ApprovalDate       2102 non-null   int64  \n",
      " 10  ApprovalFY         2102 non-null   int64  \n",
      " 11  Term               2102 non-null   int64  \n",
      " 12  NoEmp              2102 non-null   int64  \n",
      " 13  NewExist           2101 non-null   float64\n",
      " 14  CreateJob          2102 non-null   int64  \n",
      " 15  RetainedJob        2102 non-null   int64  \n",
      " 16  FranchiseCode      2102 non-null   int64  \n",
      " 17  UrbanRural         2102 non-null   int64  \n",
      " 18  RevLineCr          2100 non-null   object \n",
      " 19  LowDoc             2099 non-null   object \n",
      " 20  ChgOffDate         697 non-null    float64\n",
      " 21  DisbursementDate   2099 non-null   float64\n",
      " 22  DisbursementGross  2102 non-null   int64  \n",
      " 23  BalanceGross       2102 non-null   int64  \n",
      " 24  MIS_Status         2102 non-null   object \n",
      " 25  ChgOffPrinGr       2102 non-null   int64  \n",
      " 26  GrAppv             2102 non-null   int64  \n",
      " 27  SBA_Appv           2102 non-null   int64  \n",
      " 28  New                2102 non-null   int64  \n",
      " 29  RealEstate         2102 non-null   int64  \n",
      " 30  Portion            2102 non-null   float64\n",
      " 31  Recession          2102 non-null   int64  \n",
      " 32  daysterm           2102 non-null   int64  \n",
      " 33  xx                 2099 non-null   float64\n",
      " 34  Default            2102 non-null   int64  \n",
      "dtypes: float64(5), int64(22), object(8)\n",
      "memory usage: 574.9+ KB\n"
     ]
    }
   ],
   "source": [
    "df.info()"
   ]
  },
  {
   "cell_type": "code",
   "execution_count": 140,
   "id": "d55e7922-b5b6-418e-ad72-ab02e97bc6c5",
   "metadata": {},
   "outputs": [
    {
     "data": {
      "text/plain": [
       "np.int64(0)"
      ]
     },
     "execution_count": 140,
     "metadata": {},
     "output_type": "execute_result"
    }
   ],
   "source": [
    "# Except ChgOffDate (The date when a loan is declared to be in default), there are not many missing values.\n",
    "# Let's see whether a missing ChgOffDate always means PIF (Paid in full) in the target (MIS_Status)\n",
    "\n",
    "df[df.MIS_Status == 'PIF'].ChgOffDate.isna().sum()"
   ]
  },
  {
   "cell_type": "code",
   "execution_count": 141,
   "id": "9eab34b9-883c-47e6-b689-bd44c6295bdc",
   "metadata": {},
   "outputs": [
    {
     "data": {
      "text/plain": [
       "RevLineCr\n",
       "Y    0.350952\n",
       "0    0.347143\n",
       "N    0.276190\n",
       "T    0.025714\n",
       "Name: proportion, dtype: float64"
      ]
     },
     "execution_count": 141,
     "metadata": {},
     "output_type": "execute_result"
    }
   ],
   "source": [
    "# Consistency of catgorical variable: These variables must only have two values: Y and N\n",
    "\n",
    "df.RevLineCr.value_counts(normalize = True)"
   ]
  },
  {
   "cell_type": "code",
   "execution_count": 142,
   "id": "1de35468-7d7f-4b40-a7b3-a76297fe65c1",
   "metadata": {},
   "outputs": [
    {
     "data": {
      "text/plain": [
       "LowDoc\n",
       "N    0.978085\n",
       "Y    0.019533\n",
       "S    0.001429\n",
       "A    0.000476\n",
       "0    0.000476\n",
       "Name: proportion, dtype: float64"
      ]
     },
     "execution_count": 142,
     "metadata": {},
     "output_type": "execute_result"
    }
   ],
   "source": [
    "df.LowDoc.value_counts(normalize = True)"
   ]
  },
  {
   "cell_type": "markdown",
   "id": "a5bbdb87-c314-45ab-9c03-9dc4a5c9f4b7",
   "metadata": {},
   "source": [
    "### Conclusion of the preliminary data analysis:\n",
    "\n",
    "1. Except ChgOffDate (The date when a loan is declared to be in default), there are not many missing values.\n",
    "2. Some variables can be removed for the model. they are: \"Name\", \"City\", \"Bank\", \"BankState\", \"NAICS\", \"ApprovalDate\", \"ApprovalFY\", \"Zip\", \"State\"\n",
    "3. The target variable MIS_Status, and other categorical variables like RevLineCr and LowDoc need to be encoded.\n",
    "4. Two categorical valriables have inconsistent values. 0 needs to be converted to N and T should be converted to Y\n",
    "5. We need to scale numeric variables (not the encoded ones ofcourse). Note that will fit the scaler only on the training data and then will scale train, validation and test data separately.\n",
    "   "
   ]
  },
  {
   "cell_type": "code",
   "execution_count": 143,
   "id": "656f29e1-2e42-4221-85b8-8865ef3cc4e0",
   "metadata": {},
   "outputs": [
    {
     "name": "stderr",
     "output_type": "stream",
     "text": [
      "/var/folders/fl/75xffb014mg39p6sq1sc0hmc0000gn/T/ipykernel_39618/593081781.py:8: FutureWarning: A value is trying to be set on a copy of a DataFrame or Series through chained assignment using an inplace method.\n",
      "The behavior will change in pandas 3.0. This inplace method will never work because the intermediate object on which we are setting values always behaves as a copy.\n",
      "\n",
      "For example, when doing 'df[col].method(value, inplace=True)', try using 'df.method({col: value}, inplace=True)' or df[col] = df[col].method(value) instead, to perform the operation inplace on the original object.\n",
      "\n",
      "\n",
      "  df.ChgOffDate.fillna(-1, inplace = True)\n"
     ]
    }
   ],
   "source": [
    "### 2. Data Preparation\n",
    "\n",
    "# 2.1 Impute missing target values\n",
    "\n",
    "# Fill emply places for ChgOffDate with a value like -1 to signal that there was no default. For more clarity, we'll create a binary \n",
    "# feature like Was_Charged_Off = 1 if ChgOffDate is present, else 0 — to help the model learn from the presence/absence of that field. \n",
    "\n",
    "df.ChgOffDate.fillna(-1, inplace = True)\n",
    "df['Was_Charged_Off'] = df.ChgOffDate.apply(lambda x: 0 if x == -1 else 1)"
   ]
  },
  {
   "cell_type": "code",
   "execution_count": 144,
   "id": "4624fcb0-8deb-4dbc-b2de-afbf03ceee00",
   "metadata": {},
   "outputs": [
    {
     "data": {
      "text/plain": [
       "RevLineCr\n",
       "N    0.623333\n",
       "Y    0.376667\n",
       "Name: proportion, dtype: float64"
      ]
     },
     "execution_count": 144,
     "metadata": {},
     "output_type": "execute_result"
    }
   ],
   "source": [
    "# 2.2 Make other binary (Y and N) categorical variables consistent. We kn02 0 means N but A or S can't be interpreted.\n",
    "\n",
    "df.RevLineCr = df.RevLineCr.apply(lambda x: \"N\" if x == \"0\" else \"Y\" if x == \"T\" else x)\n",
    "df.RevLineCr.value_counts(normalize = True)"
   ]
  },
  {
   "cell_type": "code",
   "execution_count": 145,
   "id": "52c4c3d7-e27f-4b6b-8376-fa15e816c128",
   "metadata": {},
   "outputs": [
    {
     "data": {
      "text/plain": [
       "LowDoc\n",
       "N      0.979028\n",
       "Y      0.019542\n",
       "nan    0.001430\n",
       "Name: proportion, dtype: float64"
      ]
     },
     "execution_count": 145,
     "metadata": {},
     "output_type": "execute_result"
    }
   ],
   "source": [
    "# First convert values to string and remove possible leading or trailing spaces\n",
    "df.LowDoc = df.LowDoc.astype(str).str.strip()\n",
    "df.LowDoc = df.LowDoc.apply(lambda x: \"N\" if x == \"0\" else float('nan') if x in [\"A\", \"S\"] else x)\n",
    "df.LowDoc.value_counts(normalize = True)"
   ]
  },
  {
   "cell_type": "code",
   "execution_count": 146,
   "id": "f58319bc-d0f4-473d-aac3-120e0bdce9c1",
   "metadata": {},
   "outputs": [],
   "source": [
    "# 2.3 Pruning\n",
    "\n",
    "# Drop irrelevant \n",
    "df.drop(columns=[\"Name\", \"City\", \"Bank\", \"BankState\", \"NAICS\", \"ApprovalDate\", \n",
    "                 \"ApprovalFY\", \"Zip\", \"State\"], inplace=True, errors='ignore')\n",
    "\n",
    "# Drop the few observations with missing column values\n",
    "df.dropna(inplace=True)"
   ]
  },
  {
   "cell_type": "code",
   "execution_count": 147,
   "id": "5e0cc0b5-b346-49bd-aae1-f65654e3f31d",
   "metadata": {},
   "outputs": [],
   "source": [
    "# 2.4 Encoding\n",
    "\n",
    "# Encode target\n",
    "df[\"MIS_Status\"] = LabelEncoder().fit_transform(df[\"MIS_Status\"])\n",
    "\n",
    "# Encode categoricals\n",
    "for col in df.select_dtypes(include=\"object\"):\n",
    "    df[col] = LabelEncoder().fit_transform(df[col])\n"
   ]
  },
  {
   "cell_type": "code",
   "execution_count": 148,
   "id": "1f4e3a5f-b639-4fbc-b124-be51784e0de7",
   "metadata": {},
   "outputs": [],
   "source": [
    "# 2.5 Split and normalize: We'll keep part of data for validation and another part for the final testing\n",
    "\n",
    "# Separate features and target\n",
    "X = df.drop(columns=[\"MIS_Status\"]).values\n",
    "y = df[\"MIS_Status\"].values\n",
    "\n",
    "# Train/val/test split\n",
    "X_train, X_temp, y_train, y_temp = train_test_split(X, y, test_size=0.3, random_state=42)\n",
    "X_val, X_test, y_val, y_test = train_test_split(X_temp, y_temp, test_size=0.5, random_state=42)\n"
   ]
  },
  {
   "cell_type": "code",
   "execution_count": 149,
   "id": "8c5e568f-da53-4aab-8e75-86d873eeaa06",
   "metadata": {},
   "outputs": [],
   "source": [
    "# 2.6 Scale using training set only\n",
    "\n",
    "scaler = StandardScaler()\n",
    "X_train = scaler.fit_transform(X_train)\n",
    "X_val = scaler.transform(X_val)\n",
    "X_test = scaler.transform(X_test)"
   ]
  },
  {
   "cell_type": "code",
   "execution_count": 151,
   "id": "a94306f2-fa8b-4db1-87fd-5c25187a81a9",
   "metadata": {},
   "outputs": [],
   "source": [
    "### 3. Deep learning model and training with PyTorch\n",
    "\n",
    "# 3.1 Convert the data to tensors and batch them. \n",
    "# Note: y_train (and _val, _test) are numpy array of type int64 so we need to explicitly cast them to torch.long as \n",
    "# torch might fail to infer the correcttensor type automatically. \n",
    "\n",
    "train_ds = TensorDataset(torch.tensor(X_train, dtype=torch.float32), torch.tensor(y_train, dtype=torch.long))\n",
    "val_ds = TensorDataset(torch.tensor(X_val, dtype=torch.float32), torch.tensor(y_val, dtype=torch.long))\n",
    "test_ds = TensorDataset(torch.tensor(X_test, dtype=torch.float32), torch.tensor(y_test, dtype=torch.long))\n",
    "\n",
    "# batch the datasets to be fed to the model\n",
    "train_dl = DataLoader(train_ds, batch_size=64, shuffle=True)\n",
    "val_dl = DataLoader(val_ds, batch_size=64)\n",
    "test_dl = DataLoader(test_ds, batch_size=64)\n"
   ]
  },
  {
   "cell_type": "code",
   "execution_count": 152,
   "id": "001eee8e-dd55-4dab-8a78-bc6d96637cb5",
   "metadata": {},
   "outputs": [],
   "source": [
    "# 3.2 This is our MLP model. We'll make a child class of Torch's nn and will configure it. \n",
    "# Let's have 3 layers in total: the input layer of the batch size, a hidden layer, and the binary output layer.\n",
    "\n",
    "\n",
    "class LoanNet(nn.Module):\n",
    "    def __init__(self, in_dim):\n",
    "        super().__init__()\n",
    "        self.model = nn.Sequential(\n",
    "            nn.Linear(in_dim, 64),\n",
    "            nn.ReLU(),\n",
    "            nn.Linear(64, 32),\n",
    "            nn.ReLU(),\n",
    "            nn.Linear(32, 2)\n",
    "        )\n",
    "    def forward(self, x): return self.model(x)\n",
    "\n",
    "    # Make an instance of the model\n",
    "model = LoanNet(X.shape[1])\n",
    "criterion = nn.CrossEntropyLoss()\n",
    "optimizer = optim.Adam(model.parameters(), lr=1e-3)\n"
   ]
  },
  {
   "cell_type": "code",
   "execution_count": 153,
   "id": "45d23a97-a1ba-4149-b6d9-420c74a71524",
   "metadata": {},
   "outputs": [
    {
     "name": "stdout",
     "output_type": "stream",
     "text": [
      "Epoch 1: Loss 13.278, Val Acc 0.959\n",
      "Epoch 2: Loss 6.570, Val Acc 0.971\n",
      "Epoch 3: Loss 1.887, Val Acc 0.990\n",
      "Epoch 4: Loss 0.594, Val Acc 0.990\n",
      "Epoch 5: Loss 0.319, Val Acc 0.994\n",
      "Epoch 6: Loss 0.207, Val Acc 1.000\n",
      "Epoch 7: Loss 0.148, Val Acc 1.000\n",
      "Epoch 8: Loss 0.107, Val Acc 1.000\n",
      "Epoch 9: Loss 0.075, Val Acc 1.000\n",
      "Epoch 10: Loss 0.056, Val Acc 1.000\n"
     ]
    }
   ],
   "source": [
    "# 3.3 Let's train the model instance \n",
    "\n",
    "for epoch in range(10):\n",
    "    model.train()\n",
    "    total_loss = 0\n",
    "    for xb, yb in train_dl:\n",
    "        optimizer.zero_grad()\n",
    "        out = model(xb)\n",
    "        loss = criterion(out, yb)\n",
    "        loss.backward()\n",
    "        optimizer.step()\n",
    "        total_loss += loss.item()\n",
    "    \n",
    "    model.eval()\n",
    "    correct = 0\n",
    "    with torch.no_grad():\n",
    "        for xb, yb in val_dl:\n",
    "            preds = model(xb).argmax(1)\n",
    "            correct += (preds == yb).sum().item()\n",
    "    acc = correct / len(val_ds)\n",
    "    print(f\"Epoch {epoch+1}: Loss {total_loss:.3f}, Val Acc {acc:.3f}\")\n"
   ]
  },
  {
   "cell_type": "code",
   "execution_count": 154,
   "id": "75aaced4-9aef-4758-9598-1fc4422965f7",
   "metadata": {},
   "outputs": [
    {
     "name": "stdout",
     "output_type": "stream",
     "text": [
      "              precision    recall  f1-score   support\n",
      "\n",
      "      CHGOFF       1.00      0.99      1.00       108\n",
      "         PIF       1.00      1.00      1.00       206\n",
      "\n",
      "    accuracy                           1.00       314\n",
      "   macro avg       1.00      1.00      1.00       314\n",
      "weighted avg       1.00      1.00      1.00       314\n",
      "\n"
     ]
    }
   ],
   "source": [
    "# 4. Evaluation of the model\n",
    "\n",
    "model.eval()\n",
    "all_preds, all_labels = [], []\n",
    "with torch.no_grad():\n",
    "    for xb, yb in test_dl:\n",
    "        preds = model(xb).argmax(1)\n",
    "        all_preds.extend(preds.tolist())\n",
    "        all_labels.extend(yb.tolist())\n",
    "\n",
    "print(classification_report(all_labels, all_preds, target_names=[\"CHGOFF\", \"PIF\"]))\n"
   ]
  },
  {
   "cell_type": "code",
   "execution_count": 158,
   "id": "8be6e073-a501-4164-90a3-2a37b09eca9e",
   "metadata": {},
   "outputs": [
    {
     "name": "stdout",
     "output_type": "stream",
     "text": [
      "--------------------------------------------------\n"
     ]
    }
   ],
   "source": [
    "print(\"-\" * 50)"
   ]
  },
  {
   "cell_type": "markdown",
   "id": "996bbd48-0859-446f-8142-b12af5cd323d",
   "metadata": {},
   "source": [
    "### Conclusion\n",
    "\n",
    "The model learned the pattern very well and very accurately predicted on the test data. "
   ]
  },
  {
   "cell_type": "code",
   "execution_count": null,
   "id": "9d2134e5-a477-4136-94c6-ec4770f0eca7",
   "metadata": {},
   "outputs": [],
   "source": []
  }
 ],
 "metadata": {
  "kernelspec": {
   "display_name": "loan_default_pytorch_env",
   "language": "python",
   "name": "loan_default_pytorch_env"
  },
  "language_info": {
   "codemirror_mode": {
    "name": "ipython",
    "version": 3
   },
   "file_extension": ".py",
   "mimetype": "text/x-python",
   "name": "python",
   "nbconvert_exporter": "python",
   "pygments_lexer": "ipython3",
   "version": "3.11.7"
  }
 },
 "nbformat": 4,
 "nbformat_minor": 5
}
